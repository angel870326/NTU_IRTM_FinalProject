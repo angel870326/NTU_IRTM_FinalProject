{
 "cells": [
  {
   "cell_type": "markdown",
   "metadata": {},
   "source": [
    "## 情緒分數相關性分析"
   ]
  },
  {
   "cell_type": "markdown",
   "metadata": {},
   "source": [
    "### 載入套件"
   ]
  },
  {
   "cell_type": "code",
   "execution_count": 30,
   "metadata": {},
   "outputs": [],
   "source": [
    "import csv\n",
    "import pandas as pd\n",
    "import numpy as np\n",
    "from sklearn.model_selection import train_test_split\n",
    "from sklearn.svm import SVC\n",
    "from time import time\n",
    "from sklearn import metrics\n",
    "import scikitplot as skplt\n",
    "import matplotlib.pyplot as plt"
   ]
  },
  {
   "cell_type": "markdown",
   "metadata": {},
   "source": [
    "### 讀檔"
   ]
  },
  {
   "cell_type": "code",
   "execution_count": 31,
   "metadata": {},
   "outputs": [],
   "source": [
    "## cvaw + stock sign\n",
    "filePath = \"./preprocess/tokens+stockSign/\"\n",
    "df_cvaw_covid = pd.read_csv(filePath + \"cvaw_covid_stockSign.csv\")[[\"Valence_Sum\",\"Arousal_Sum\", \"words_Num\"]]\n",
    "df_cvaw_stock = pd.read_csv(filePath + \"cvaw_stock_stockSign.csv\")[[\"Valence_Sum\",\"Arousal_Sum\", \"words_Num\"]]\n",
    "df_stockSign_covid = pd.read_csv(filePath + \"cvaw_covid_stockSign.csv\")[[\"date\", \"stockRise_mask\", \"stockRise_testKits\", \"stockRise_vaccine\"]]\n",
    "df_stockSign_stock = pd.read_csv(filePath + \"cvaw_stock_stockSign.csv\")[[\"date\", \"stockRise_mask\", \"stockRise_testKits\", \"stockRise_vaccine\"]]"
   ]
  },
  {
   "cell_type": "code",
   "execution_count": 32,
   "metadata": {},
   "outputs": [],
   "source": [
    "df_cvaw_covid[\"weighted_score\"] = np.where(df_cvaw_covid[\"words_Num\"] == 0, 0, \n",
    "                                           (df_cvaw_covid[\"Valence_Sum\"] * (df_cvaw_covid[\"Arousal_Sum\"] + df_cvaw_covid[\"words_Num\"] * 5) / df_cvaw_covid[\"words_Num\"]))"
   ]
  },
  {
   "cell_type": "code",
   "execution_count": 33,
   "metadata": {},
   "outputs": [
    {
     "data": {
      "text/html": [
       "<div>\n",
       "<style scoped>\n",
       "    .dataframe tbody tr th:only-of-type {\n",
       "        vertical-align: middle;\n",
       "    }\n",
       "\n",
       "    .dataframe tbody tr th {\n",
       "        vertical-align: top;\n",
       "    }\n",
       "\n",
       "    .dataframe thead th {\n",
       "        text-align: right;\n",
       "    }\n",
       "</style>\n",
       "<table border=\"1\" class=\"dataframe\">\n",
       "  <thead>\n",
       "    <tr style=\"text-align: right;\">\n",
       "      <th></th>\n",
       "      <th>Valence_Sum</th>\n",
       "      <th>Arousal_Sum</th>\n",
       "      <th>words_Num</th>\n",
       "      <th>weighted_score</th>\n",
       "    </tr>\n",
       "  </thead>\n",
       "  <tbody>\n",
       "    <tr>\n",
       "      <th>0</th>\n",
       "      <td>-16.6</td>\n",
       "      <td>-18.8</td>\n",
       "      <td>34</td>\n",
       "      <td>-73.821176</td>\n",
       "    </tr>\n",
       "    <tr>\n",
       "      <th>1</th>\n",
       "      <td>23.3</td>\n",
       "      <td>-6.2</td>\n",
       "      <td>69</td>\n",
       "      <td>114.406377</td>\n",
       "    </tr>\n",
       "    <tr>\n",
       "      <th>2</th>\n",
       "      <td>-76.0</td>\n",
       "      <td>-50.7</td>\n",
       "      <td>125</td>\n",
       "      <td>-349.174400</td>\n",
       "    </tr>\n",
       "    <tr>\n",
       "      <th>3</th>\n",
       "      <td>11.2</td>\n",
       "      <td>-10.0</td>\n",
       "      <td>29</td>\n",
       "      <td>52.137931</td>\n",
       "    </tr>\n",
       "    <tr>\n",
       "      <th>4</th>\n",
       "      <td>-13.3</td>\n",
       "      <td>-21.2</td>\n",
       "      <td>41</td>\n",
       "      <td>-59.622927</td>\n",
       "    </tr>\n",
       "    <tr>\n",
       "      <th>...</th>\n",
       "      <td>...</td>\n",
       "      <td>...</td>\n",
       "      <td>...</td>\n",
       "      <td>...</td>\n",
       "    </tr>\n",
       "    <tr>\n",
       "      <th>7509</th>\n",
       "      <td>2.0</td>\n",
       "      <td>-7.6</td>\n",
       "      <td>8</td>\n",
       "      <td>8.100000</td>\n",
       "    </tr>\n",
       "    <tr>\n",
       "      <th>7510</th>\n",
       "      <td>-32.8</td>\n",
       "      <td>-0.8</td>\n",
       "      <td>47</td>\n",
       "      <td>-163.441702</td>\n",
       "    </tr>\n",
       "    <tr>\n",
       "      <th>7511</th>\n",
       "      <td>0.6</td>\n",
       "      <td>-1.4</td>\n",
       "      <td>4</td>\n",
       "      <td>2.790000</td>\n",
       "    </tr>\n",
       "    <tr>\n",
       "      <th>7512</th>\n",
       "      <td>-10.7</td>\n",
       "      <td>-18.2</td>\n",
       "      <td>29</td>\n",
       "      <td>-46.784828</td>\n",
       "    </tr>\n",
       "    <tr>\n",
       "      <th>7513</th>\n",
       "      <td>11.2</td>\n",
       "      <td>-6.5</td>\n",
       "      <td>21</td>\n",
       "      <td>52.533333</td>\n",
       "    </tr>\n",
       "  </tbody>\n",
       "</table>\n",
       "<p>7514 rows × 4 columns</p>\n",
       "</div>"
      ],
      "text/plain": [
       "      Valence_Sum  Arousal_Sum  words_Num  weighted_score\n",
       "0           -16.6        -18.8         34      -73.821176\n",
       "1            23.3         -6.2         69      114.406377\n",
       "2           -76.0        -50.7        125     -349.174400\n",
       "3            11.2        -10.0         29       52.137931\n",
       "4           -13.3        -21.2         41      -59.622927\n",
       "...           ...          ...        ...             ...\n",
       "7509          2.0         -7.6          8        8.100000\n",
       "7510        -32.8         -0.8         47     -163.441702\n",
       "7511          0.6         -1.4          4        2.790000\n",
       "7512        -10.7        -18.2         29      -46.784828\n",
       "7513         11.2         -6.5         21       52.533333\n",
       "\n",
       "[7514 rows x 4 columns]"
      ]
     },
     "execution_count": 33,
     "metadata": {},
     "output_type": "execute_result"
    }
   ],
   "source": [
    "df_cvaw_covid"
   ]
  },
  {
   "cell_type": "code",
   "execution_count": 34,
   "metadata": {},
   "outputs": [],
   "source": [
    "df_cvaw_stock[\"weighted_score\"] = np.where(df_cvaw_stock[\"words_Num\"] == 0, 0, \n",
    "                                           (df_cvaw_stock[\"Valence_Sum\"] * (df_cvaw_stock[\"Arousal_Sum\"] + df_cvaw_stock[\"words_Num\"] * 5) / df_cvaw_stock[\"words_Num\"]))"
   ]
  },
  {
   "cell_type": "code",
   "execution_count": 35,
   "metadata": {},
   "outputs": [
    {
     "data": {
      "text/html": [
       "<div>\n",
       "<style scoped>\n",
       "    .dataframe tbody tr th:only-of-type {\n",
       "        vertical-align: middle;\n",
       "    }\n",
       "\n",
       "    .dataframe tbody tr th {\n",
       "        vertical-align: top;\n",
       "    }\n",
       "\n",
       "    .dataframe thead th {\n",
       "        text-align: right;\n",
       "    }\n",
       "</style>\n",
       "<table border=\"1\" class=\"dataframe\">\n",
       "  <thead>\n",
       "    <tr style=\"text-align: right;\">\n",
       "      <th></th>\n",
       "      <th>Valence_Sum</th>\n",
       "      <th>Arousal_Sum</th>\n",
       "      <th>words_Num</th>\n",
       "      <th>weighted_score</th>\n",
       "    </tr>\n",
       "  </thead>\n",
       "  <tbody>\n",
       "    <tr>\n",
       "      <th>0</th>\n",
       "      <td>14.0</td>\n",
       "      <td>-2.4</td>\n",
       "      <td>21</td>\n",
       "      <td>68.400000</td>\n",
       "    </tr>\n",
       "    <tr>\n",
       "      <th>1</th>\n",
       "      <td>15.4</td>\n",
       "      <td>-10.2</td>\n",
       "      <td>22</td>\n",
       "      <td>69.860000</td>\n",
       "    </tr>\n",
       "    <tr>\n",
       "      <th>2</th>\n",
       "      <td>33.0</td>\n",
       "      <td>-21.3</td>\n",
       "      <td>51</td>\n",
       "      <td>151.217647</td>\n",
       "    </tr>\n",
       "    <tr>\n",
       "      <th>3</th>\n",
       "      <td>-5.2</td>\n",
       "      <td>-6.8</td>\n",
       "      <td>8</td>\n",
       "      <td>-21.580000</td>\n",
       "    </tr>\n",
       "    <tr>\n",
       "      <th>4</th>\n",
       "      <td>-15.1</td>\n",
       "      <td>-13.9</td>\n",
       "      <td>32</td>\n",
       "      <td>-68.940937</td>\n",
       "    </tr>\n",
       "    <tr>\n",
       "      <th>...</th>\n",
       "      <td>...</td>\n",
       "      <td>...</td>\n",
       "      <td>...</td>\n",
       "      <td>...</td>\n",
       "    </tr>\n",
       "    <tr>\n",
       "      <th>9724</th>\n",
       "      <td>-0.5</td>\n",
       "      <td>-6.1</td>\n",
       "      <td>14</td>\n",
       "      <td>-2.282143</td>\n",
       "    </tr>\n",
       "    <tr>\n",
       "      <th>9725</th>\n",
       "      <td>-2.2</td>\n",
       "      <td>0.0</td>\n",
       "      <td>4</td>\n",
       "      <td>-11.000000</td>\n",
       "    </tr>\n",
       "    <tr>\n",
       "      <th>9726</th>\n",
       "      <td>0.0</td>\n",
       "      <td>-3.4</td>\n",
       "      <td>4</td>\n",
       "      <td>0.000000</td>\n",
       "    </tr>\n",
       "    <tr>\n",
       "      <th>9727</th>\n",
       "      <td>5.4</td>\n",
       "      <td>-3.2</td>\n",
       "      <td>7</td>\n",
       "      <td>24.531429</td>\n",
       "    </tr>\n",
       "    <tr>\n",
       "      <th>9728</th>\n",
       "      <td>-0.6</td>\n",
       "      <td>-3.0</td>\n",
       "      <td>2</td>\n",
       "      <td>-2.100000</td>\n",
       "    </tr>\n",
       "  </tbody>\n",
       "</table>\n",
       "<p>9729 rows × 4 columns</p>\n",
       "</div>"
      ],
      "text/plain": [
       "      Valence_Sum  Arousal_Sum  words_Num  weighted_score\n",
       "0            14.0         -2.4         21       68.400000\n",
       "1            15.4        -10.2         22       69.860000\n",
       "2            33.0        -21.3         51      151.217647\n",
       "3            -5.2         -6.8          8      -21.580000\n",
       "4           -15.1        -13.9         32      -68.940937\n",
       "...           ...          ...        ...             ...\n",
       "9724         -0.5         -6.1         14       -2.282143\n",
       "9725         -2.2          0.0          4      -11.000000\n",
       "9726          0.0         -3.4          4        0.000000\n",
       "9727          5.4         -3.2          7       24.531429\n",
       "9728         -0.6         -3.0          2       -2.100000\n",
       "\n",
       "[9729 rows x 4 columns]"
      ]
     },
     "execution_count": 35,
     "metadata": {},
     "output_type": "execute_result"
    }
   ],
   "source": [
    "df_cvaw_stock"
   ]
  },
  {
   "cell_type": "markdown",
   "metadata": {},
   "source": [
    "### covid 板 testing & training split"
   ]
  },
  {
   "cell_type": "code",
   "execution_count": 36,
   "metadata": {},
   "outputs": [],
   "source": [
    "x_train, x_test, y_train, y_test = train_test_split(df_cvaw_covid, df_stockSign_covid, test_size=0.20, random_state=404)"
   ]
  },
  {
   "cell_type": "code",
   "execution_count": 37,
   "metadata": {
    "scrolled": false
   },
   "outputs": [
    {
     "data": {
      "text/html": [
       "<div>\n",
       "<style scoped>\n",
       "    .dataframe tbody tr th:only-of-type {\n",
       "        vertical-align: middle;\n",
       "    }\n",
       "\n",
       "    .dataframe tbody tr th {\n",
       "        vertical-align: top;\n",
       "    }\n",
       "\n",
       "    .dataframe thead th {\n",
       "        text-align: right;\n",
       "    }\n",
       "</style>\n",
       "<table border=\"1\" class=\"dataframe\">\n",
       "  <thead>\n",
       "    <tr style=\"text-align: right;\">\n",
       "      <th></th>\n",
       "      <th>Valence_Sum</th>\n",
       "      <th>Arousal_Sum</th>\n",
       "      <th>words_Num</th>\n",
       "      <th>weighted_score</th>\n",
       "    </tr>\n",
       "  </thead>\n",
       "  <tbody>\n",
       "    <tr>\n",
       "      <th>7271</th>\n",
       "      <td>-8.4</td>\n",
       "      <td>-5.6</td>\n",
       "      <td>8</td>\n",
       "      <td>-36.120000</td>\n",
       "    </tr>\n",
       "    <tr>\n",
       "      <th>317</th>\n",
       "      <td>-4.4</td>\n",
       "      <td>-13.2</td>\n",
       "      <td>28</td>\n",
       "      <td>-19.925714</td>\n",
       "    </tr>\n",
       "    <tr>\n",
       "      <th>1925</th>\n",
       "      <td>-0.6</td>\n",
       "      <td>-3.4</td>\n",
       "      <td>3</td>\n",
       "      <td>-2.320000</td>\n",
       "    </tr>\n",
       "    <tr>\n",
       "      <th>3188</th>\n",
       "      <td>11.8</td>\n",
       "      <td>-10.2</td>\n",
       "      <td>17</td>\n",
       "      <td>51.920000</td>\n",
       "    </tr>\n",
       "    <tr>\n",
       "      <th>7289</th>\n",
       "      <td>-17.8</td>\n",
       "      <td>-2.6</td>\n",
       "      <td>20</td>\n",
       "      <td>-86.686000</td>\n",
       "    </tr>\n",
       "    <tr>\n",
       "      <th>...</th>\n",
       "      <td>...</td>\n",
       "      <td>...</td>\n",
       "      <td>...</td>\n",
       "      <td>...</td>\n",
       "    </tr>\n",
       "    <tr>\n",
       "      <th>6031</th>\n",
       "      <td>-1.2</td>\n",
       "      <td>-40.0</td>\n",
       "      <td>56</td>\n",
       "      <td>-5.142857</td>\n",
       "    </tr>\n",
       "    <tr>\n",
       "      <th>5108</th>\n",
       "      <td>-5.8</td>\n",
       "      <td>-3.0</td>\n",
       "      <td>54</td>\n",
       "      <td>-28.677778</td>\n",
       "    </tr>\n",
       "    <tr>\n",
       "      <th>5302</th>\n",
       "      <td>8.6</td>\n",
       "      <td>-5.5</td>\n",
       "      <td>13</td>\n",
       "      <td>39.361538</td>\n",
       "    </tr>\n",
       "    <tr>\n",
       "      <th>5994</th>\n",
       "      <td>-9.3</td>\n",
       "      <td>-5.1</td>\n",
       "      <td>12</td>\n",
       "      <td>-42.547500</td>\n",
       "    </tr>\n",
       "    <tr>\n",
       "      <th>5884</th>\n",
       "      <td>-19.2</td>\n",
       "      <td>-7.6</td>\n",
       "      <td>31</td>\n",
       "      <td>-91.292903</td>\n",
       "    </tr>\n",
       "  </tbody>\n",
       "</table>\n",
       "<p>6011 rows × 4 columns</p>\n",
       "</div>"
      ],
      "text/plain": [
       "      Valence_Sum  Arousal_Sum  words_Num  weighted_score\n",
       "7271         -8.4         -5.6          8      -36.120000\n",
       "317          -4.4        -13.2         28      -19.925714\n",
       "1925         -0.6         -3.4          3       -2.320000\n",
       "3188         11.8        -10.2         17       51.920000\n",
       "7289        -17.8         -2.6         20      -86.686000\n",
       "...           ...          ...        ...             ...\n",
       "6031         -1.2        -40.0         56       -5.142857\n",
       "5108         -5.8         -3.0         54      -28.677778\n",
       "5302          8.6         -5.5         13       39.361538\n",
       "5994         -9.3         -5.1         12      -42.547500\n",
       "5884        -19.2         -7.6         31      -91.292903\n",
       "\n",
       "[6011 rows x 4 columns]"
      ]
     },
     "execution_count": 37,
     "metadata": {},
     "output_type": "execute_result"
    }
   ],
   "source": [
    "x_train"
   ]
  },
  {
   "cell_type": "code",
   "execution_count": 38,
   "metadata": {},
   "outputs": [],
   "source": [
    "# 檢查切出來的 x_train y_train index 是否相同\n",
    "for i in range(len(x_train.index)):\n",
    "    if x_train.index[i] != y_train.index[i]:\n",
    "        print(x_train.index[i])"
   ]
  },
  {
   "cell_type": "code",
   "execution_count": 39,
   "metadata": {},
   "outputs": [],
   "source": [
    "x_train = x_train.values.tolist()\n",
    "x_test = x_test.values.tolist()\n",
    "y_train_mask = y_train[\"stockRise_mask\"].tolist()    # 單括號取list，雙括號取dataframe\n",
    "y_train_testKits = y_train[\"stockRise_testKits\"].tolist()\n",
    "y_train_vaccine = y_train[\"stockRise_vaccine\"].tolist()\n",
    "y_test_mask = y_test[\"stockRise_mask\"].tolist()\n",
    "y_test_testKits = y_test[\"stockRise_testKits\"].tolist()\n",
    "y_test_vaccine = y_test[\"stockRise_vaccine\"].tolist()"
   ]
  },
  {
   "cell_type": "markdown",
   "metadata": {},
   "source": [
    "### stock 板 testing & training split"
   ]
  },
  {
   "cell_type": "code",
   "execution_count": 45,
   "metadata": {},
   "outputs": [],
   "source": [
    "x_train, x_test, y_train, y_test = train_test_split(df_cvaw_stock, df_stockSign_stock, test_size=0.20, random_state=404)"
   ]
  },
  {
   "cell_type": "code",
   "execution_count": 46,
   "metadata": {},
   "outputs": [],
   "source": [
    "# 檢查切出來的 x_train y_train index 是否相同\n",
    "for i in range(len(x_train.index)):\n",
    "    if x_train.index[i] != y_train.index[i]:\n",
    "        print(x_train.index[i])"
   ]
  },
  {
   "cell_type": "code",
   "execution_count": 47,
   "metadata": {},
   "outputs": [],
   "source": [
    "x_train = x_train.values.tolist()\n",
    "x_test = x_test.values.tolist()\n",
    "y_train_mask = y_train[\"stockRise_mask\"].tolist()    # 單括號取list，雙括號取dataframe\n",
    "y_train_testKits = y_train[\"stockRise_testKits\"].tolist()\n",
    "y_train_vaccine = y_train[\"stockRise_vaccine\"].tolist()\n",
    "y_test_mask = y_test[\"stockRise_mask\"].tolist()\n",
    "y_test_testKits = y_test[\"stockRise_testKits\"].tolist()\n",
    "y_test_vaccine = y_test[\"stockRise_vaccine\"].tolist()"
   ]
  },
  {
   "cell_type": "markdown",
   "metadata": {},
   "source": [
    "## 相關性分析（pearson）"
   ]
  },
  {
   "cell_type": "code",
   "execution_count": 14,
   "metadata": {
    "scrolled": true
   },
   "outputs": [],
   "source": [
    "covid_seti_stock = pd.concat([ x_train, y_train.iloc[:, 1:4] ], axis = 1)"
   ]
  },
  {
   "cell_type": "code",
   "execution_count": 15,
   "metadata": {},
   "outputs": [
    {
     "data": {
      "text/html": [
       "<div>\n",
       "<style scoped>\n",
       "    .dataframe tbody tr th:only-of-type {\n",
       "        vertical-align: middle;\n",
       "    }\n",
       "\n",
       "    .dataframe tbody tr th {\n",
       "        vertical-align: top;\n",
       "    }\n",
       "\n",
       "    .dataframe thead th {\n",
       "        text-align: right;\n",
       "    }\n",
       "</style>\n",
       "<table border=\"1\" class=\"dataframe\">\n",
       "  <thead>\n",
       "    <tr style=\"text-align: right;\">\n",
       "      <th></th>\n",
       "      <th>Valence_Sum</th>\n",
       "      <th>Arousal_Sum</th>\n",
       "      <th>words_Num</th>\n",
       "      <th>weighted_score</th>\n",
       "      <th>stockRise_mask</th>\n",
       "      <th>stockRise_testKits</th>\n",
       "      <th>stockRise_vaccine</th>\n",
       "    </tr>\n",
       "  </thead>\n",
       "  <tbody>\n",
       "    <tr>\n",
       "      <th>7271</th>\n",
       "      <td>-8.4</td>\n",
       "      <td>-5.6</td>\n",
       "      <td>8</td>\n",
       "      <td>-36.120000</td>\n",
       "      <td>0</td>\n",
       "      <td>0</td>\n",
       "      <td>1</td>\n",
       "    </tr>\n",
       "    <tr>\n",
       "      <th>317</th>\n",
       "      <td>-4.4</td>\n",
       "      <td>-13.2</td>\n",
       "      <td>28</td>\n",
       "      <td>-19.925714</td>\n",
       "      <td>-1</td>\n",
       "      <td>0</td>\n",
       "      <td>0</td>\n",
       "    </tr>\n",
       "    <tr>\n",
       "      <th>1925</th>\n",
       "      <td>-0.6</td>\n",
       "      <td>-3.4</td>\n",
       "      <td>3</td>\n",
       "      <td>-2.320000</td>\n",
       "      <td>1</td>\n",
       "      <td>0</td>\n",
       "      <td>0</td>\n",
       "    </tr>\n",
       "    <tr>\n",
       "      <th>3188</th>\n",
       "      <td>11.8</td>\n",
       "      <td>-10.2</td>\n",
       "      <td>17</td>\n",
       "      <td>51.920000</td>\n",
       "      <td>1</td>\n",
       "      <td>1</td>\n",
       "      <td>-1</td>\n",
       "    </tr>\n",
       "    <tr>\n",
       "      <th>7289</th>\n",
       "      <td>-17.8</td>\n",
       "      <td>-2.6</td>\n",
       "      <td>20</td>\n",
       "      <td>-86.686000</td>\n",
       "      <td>-1</td>\n",
       "      <td>1</td>\n",
       "      <td>1</td>\n",
       "    </tr>\n",
       "    <tr>\n",
       "      <th>...</th>\n",
       "      <td>...</td>\n",
       "      <td>...</td>\n",
       "      <td>...</td>\n",
       "      <td>...</td>\n",
       "      <td>...</td>\n",
       "      <td>...</td>\n",
       "      <td>...</td>\n",
       "    </tr>\n",
       "    <tr>\n",
       "      <th>6031</th>\n",
       "      <td>-1.2</td>\n",
       "      <td>-40.0</td>\n",
       "      <td>56</td>\n",
       "      <td>-5.142857</td>\n",
       "      <td>-1</td>\n",
       "      <td>1</td>\n",
       "      <td>1</td>\n",
       "    </tr>\n",
       "    <tr>\n",
       "      <th>5108</th>\n",
       "      <td>-5.8</td>\n",
       "      <td>-3.0</td>\n",
       "      <td>54</td>\n",
       "      <td>-28.677778</td>\n",
       "      <td>1</td>\n",
       "      <td>0</td>\n",
       "      <td>0</td>\n",
       "    </tr>\n",
       "    <tr>\n",
       "      <th>5302</th>\n",
       "      <td>8.6</td>\n",
       "      <td>-5.5</td>\n",
       "      <td>13</td>\n",
       "      <td>39.361538</td>\n",
       "      <td>0</td>\n",
       "      <td>-1</td>\n",
       "      <td>0</td>\n",
       "    </tr>\n",
       "    <tr>\n",
       "      <th>5994</th>\n",
       "      <td>-9.3</td>\n",
       "      <td>-5.1</td>\n",
       "      <td>12</td>\n",
       "      <td>-42.547500</td>\n",
       "      <td>0</td>\n",
       "      <td>0</td>\n",
       "      <td>-1</td>\n",
       "    </tr>\n",
       "    <tr>\n",
       "      <th>5884</th>\n",
       "      <td>-19.2</td>\n",
       "      <td>-7.6</td>\n",
       "      <td>31</td>\n",
       "      <td>-91.292903</td>\n",
       "      <td>1</td>\n",
       "      <td>0</td>\n",
       "      <td>-1</td>\n",
       "    </tr>\n",
       "  </tbody>\n",
       "</table>\n",
       "<p>6011 rows × 7 columns</p>\n",
       "</div>"
      ],
      "text/plain": [
       "      Valence_Sum  Arousal_Sum  words_Num  weighted_score  stockRise_mask  \\\n",
       "7271         -8.4         -5.6          8      -36.120000               0   \n",
       "317          -4.4        -13.2         28      -19.925714              -1   \n",
       "1925         -0.6         -3.4          3       -2.320000               1   \n",
       "3188         11.8        -10.2         17       51.920000               1   \n",
       "7289        -17.8         -2.6         20      -86.686000              -1   \n",
       "...           ...          ...        ...             ...             ...   \n",
       "6031         -1.2        -40.0         56       -5.142857              -1   \n",
       "5108         -5.8         -3.0         54      -28.677778               1   \n",
       "5302          8.6         -5.5         13       39.361538               0   \n",
       "5994         -9.3         -5.1         12      -42.547500               0   \n",
       "5884        -19.2         -7.6         31      -91.292903               1   \n",
       "\n",
       "      stockRise_testKits  stockRise_vaccine  \n",
       "7271                   0                  1  \n",
       "317                    0                  0  \n",
       "1925                   0                  0  \n",
       "3188                   1                 -1  \n",
       "7289                   1                  1  \n",
       "...                  ...                ...  \n",
       "6031                   1                  1  \n",
       "5108                   0                  0  \n",
       "5302                  -1                  0  \n",
       "5994                   0                 -1  \n",
       "5884                   0                 -1  \n",
       "\n",
       "[6011 rows x 7 columns]"
      ]
     },
     "execution_count": 15,
     "metadata": {},
     "output_type": "execute_result"
    }
   ],
   "source": [
    "covid_seti_stock"
   ]
  },
  {
   "cell_type": "code",
   "execution_count": 18,
   "metadata": {
    "scrolled": true
   },
   "outputs": [
    {
     "data": {
      "text/html": [
       "<div>\n",
       "<style scoped>\n",
       "    .dataframe tbody tr th:only-of-type {\n",
       "        vertical-align: middle;\n",
       "    }\n",
       "\n",
       "    .dataframe tbody tr th {\n",
       "        vertical-align: top;\n",
       "    }\n",
       "\n",
       "    .dataframe thead th {\n",
       "        text-align: right;\n",
       "    }\n",
       "</style>\n",
       "<table border=\"1\" class=\"dataframe\">\n",
       "  <thead>\n",
       "    <tr style=\"text-align: right;\">\n",
       "      <th></th>\n",
       "      <th>Valence_Sum</th>\n",
       "      <th>Arousal_Sum</th>\n",
       "      <th>words_Num</th>\n",
       "      <th>weighted_score</th>\n",
       "      <th>stockRise_mask</th>\n",
       "      <th>stockRise_testKits</th>\n",
       "      <th>stockRise_vaccine</th>\n",
       "    </tr>\n",
       "  </thead>\n",
       "  <tbody>\n",
       "    <tr>\n",
       "      <th>Valence_Sum</th>\n",
       "      <td>1.000000</td>\n",
       "      <td>-0.102465</td>\n",
       "      <td>-0.217906</td>\n",
       "      <td>0.997555</td>\n",
       "      <td>-0.008090</td>\n",
       "      <td>0.000074</td>\n",
       "      <td>0.016332</td>\n",
       "    </tr>\n",
       "    <tr>\n",
       "      <th>Arousal_Sum</th>\n",
       "      <td>-0.102465</td>\n",
       "      <td>1.000000</td>\n",
       "      <td>-0.620840</td>\n",
       "      <td>-0.122668</td>\n",
       "      <td>-0.005795</td>\n",
       "      <td>-0.024196</td>\n",
       "      <td>0.011413</td>\n",
       "    </tr>\n",
       "    <tr>\n",
       "      <th>words_Num</th>\n",
       "      <td>-0.217906</td>\n",
       "      <td>-0.620840</td>\n",
       "      <td>1.000000</td>\n",
       "      <td>-0.215588</td>\n",
       "      <td>0.006119</td>\n",
       "      <td>0.016564</td>\n",
       "      <td>-0.017786</td>\n",
       "    </tr>\n",
       "    <tr>\n",
       "      <th>weighted_score</th>\n",
       "      <td>0.997555</td>\n",
       "      <td>-0.122668</td>\n",
       "      <td>-0.215588</td>\n",
       "      <td>1.000000</td>\n",
       "      <td>-0.007992</td>\n",
       "      <td>-0.000137</td>\n",
       "      <td>0.016067</td>\n",
       "    </tr>\n",
       "    <tr>\n",
       "      <th>stockRise_mask</th>\n",
       "      <td>-0.008090</td>\n",
       "      <td>-0.005795</td>\n",
       "      <td>0.006119</td>\n",
       "      <td>-0.007992</td>\n",
       "      <td>1.000000</td>\n",
       "      <td>0.044630</td>\n",
       "      <td>0.021319</td>\n",
       "    </tr>\n",
       "    <tr>\n",
       "      <th>stockRise_testKits</th>\n",
       "      <td>0.000074</td>\n",
       "      <td>-0.024196</td>\n",
       "      <td>0.016564</td>\n",
       "      <td>-0.000137</td>\n",
       "      <td>0.044630</td>\n",
       "      <td>1.000000</td>\n",
       "      <td>0.146321</td>\n",
       "    </tr>\n",
       "    <tr>\n",
       "      <th>stockRise_vaccine</th>\n",
       "      <td>0.016332</td>\n",
       "      <td>0.011413</td>\n",
       "      <td>-0.017786</td>\n",
       "      <td>0.016067</td>\n",
       "      <td>0.021319</td>\n",
       "      <td>0.146321</td>\n",
       "      <td>1.000000</td>\n",
       "    </tr>\n",
       "  </tbody>\n",
       "</table>\n",
       "</div>"
      ],
      "text/plain": [
       "                    Valence_Sum  Arousal_Sum  words_Num  weighted_score  \\\n",
       "Valence_Sum            1.000000    -0.102465  -0.217906        0.997555   \n",
       "Arousal_Sum           -0.102465     1.000000  -0.620840       -0.122668   \n",
       "words_Num             -0.217906    -0.620840   1.000000       -0.215588   \n",
       "weighted_score         0.997555    -0.122668  -0.215588        1.000000   \n",
       "stockRise_mask        -0.008090    -0.005795   0.006119       -0.007992   \n",
       "stockRise_testKits     0.000074    -0.024196   0.016564       -0.000137   \n",
       "stockRise_vaccine      0.016332     0.011413  -0.017786        0.016067   \n",
       "\n",
       "                    stockRise_mask  stockRise_testKits  stockRise_vaccine  \n",
       "Valence_Sum              -0.008090            0.000074           0.016332  \n",
       "Arousal_Sum              -0.005795           -0.024196           0.011413  \n",
       "words_Num                 0.006119            0.016564          -0.017786  \n",
       "weighted_score           -0.007992           -0.000137           0.016067  \n",
       "stockRise_mask            1.000000            0.044630           0.021319  \n",
       "stockRise_testKits        0.044630            1.000000           0.146321  \n",
       "stockRise_vaccine         0.021319            0.146321           1.000000  "
      ]
     },
     "execution_count": 18,
     "metadata": {},
     "output_type": "execute_result"
    }
   ],
   "source": [
    "covid_seti_stock.corr()"
   ]
  },
  {
   "cell_type": "code",
   "execution_count": 19,
   "metadata": {},
   "outputs": [],
   "source": [
    "stock_seti_stock = pd.concat([ x_train, y_train.iloc[:, 1:4] ], axis = 1)"
   ]
  },
  {
   "cell_type": "code",
   "execution_count": 20,
   "metadata": {},
   "outputs": [
    {
     "data": {
      "text/html": [
       "<div>\n",
       "<style scoped>\n",
       "    .dataframe tbody tr th:only-of-type {\n",
       "        vertical-align: middle;\n",
       "    }\n",
       "\n",
       "    .dataframe tbody tr th {\n",
       "        vertical-align: top;\n",
       "    }\n",
       "\n",
       "    .dataframe thead th {\n",
       "        text-align: right;\n",
       "    }\n",
       "</style>\n",
       "<table border=\"1\" class=\"dataframe\">\n",
       "  <thead>\n",
       "    <tr style=\"text-align: right;\">\n",
       "      <th></th>\n",
       "      <th>Valence_Sum</th>\n",
       "      <th>Arousal_Sum</th>\n",
       "      <th>words_Num</th>\n",
       "      <th>weighted_score</th>\n",
       "      <th>stockRise_mask</th>\n",
       "      <th>stockRise_testKits</th>\n",
       "      <th>stockRise_vaccine</th>\n",
       "    </tr>\n",
       "  </thead>\n",
       "  <tbody>\n",
       "    <tr>\n",
       "      <th>Valence_Sum</th>\n",
       "      <td>1.000000</td>\n",
       "      <td>0.506141</td>\n",
       "      <td>-0.507822</td>\n",
       "      <td>0.998632</td>\n",
       "      <td>-0.003337</td>\n",
       "      <td>0.024339</td>\n",
       "      <td>0.014364</td>\n",
       "    </tr>\n",
       "    <tr>\n",
       "      <th>Arousal_Sum</th>\n",
       "      <td>0.506141</td>\n",
       "      <td>1.000000</td>\n",
       "      <td>-0.899368</td>\n",
       "      <td>0.485494</td>\n",
       "      <td>-0.007522</td>\n",
       "      <td>0.010416</td>\n",
       "      <td>0.010222</td>\n",
       "    </tr>\n",
       "    <tr>\n",
       "      <th>words_Num</th>\n",
       "      <td>-0.507822</td>\n",
       "      <td>-0.899368</td>\n",
       "      <td>1.000000</td>\n",
       "      <td>-0.491561</td>\n",
       "      <td>0.010624</td>\n",
       "      <td>-0.010360</td>\n",
       "      <td>-0.003340</td>\n",
       "    </tr>\n",
       "    <tr>\n",
       "      <th>weighted_score</th>\n",
       "      <td>0.998632</td>\n",
       "      <td>0.485494</td>\n",
       "      <td>-0.491561</td>\n",
       "      <td>1.000000</td>\n",
       "      <td>-0.003085</td>\n",
       "      <td>0.025024</td>\n",
       "      <td>0.014537</td>\n",
       "    </tr>\n",
       "    <tr>\n",
       "      <th>stockRise_mask</th>\n",
       "      <td>-0.003337</td>\n",
       "      <td>-0.007522</td>\n",
       "      <td>0.010624</td>\n",
       "      <td>-0.003085</td>\n",
       "      <td>1.000000</td>\n",
       "      <td>0.105857</td>\n",
       "      <td>0.115206</td>\n",
       "    </tr>\n",
       "    <tr>\n",
       "      <th>stockRise_testKits</th>\n",
       "      <td>0.024339</td>\n",
       "      <td>0.010416</td>\n",
       "      <td>-0.010360</td>\n",
       "      <td>0.025024</td>\n",
       "      <td>0.105857</td>\n",
       "      <td>1.000000</td>\n",
       "      <td>0.159451</td>\n",
       "    </tr>\n",
       "    <tr>\n",
       "      <th>stockRise_vaccine</th>\n",
       "      <td>0.014364</td>\n",
       "      <td>0.010222</td>\n",
       "      <td>-0.003340</td>\n",
       "      <td>0.014537</td>\n",
       "      <td>0.115206</td>\n",
       "      <td>0.159451</td>\n",
       "      <td>1.000000</td>\n",
       "    </tr>\n",
       "  </tbody>\n",
       "</table>\n",
       "</div>"
      ],
      "text/plain": [
       "                    Valence_Sum  Arousal_Sum  words_Num  weighted_score  \\\n",
       "Valence_Sum            1.000000     0.506141  -0.507822        0.998632   \n",
       "Arousal_Sum            0.506141     1.000000  -0.899368        0.485494   \n",
       "words_Num             -0.507822    -0.899368   1.000000       -0.491561   \n",
       "weighted_score         0.998632     0.485494  -0.491561        1.000000   \n",
       "stockRise_mask        -0.003337    -0.007522   0.010624       -0.003085   \n",
       "stockRise_testKits     0.024339     0.010416  -0.010360        0.025024   \n",
       "stockRise_vaccine      0.014364     0.010222  -0.003340        0.014537   \n",
       "\n",
       "                    stockRise_mask  stockRise_testKits  stockRise_vaccine  \n",
       "Valence_Sum              -0.003337            0.024339           0.014364  \n",
       "Arousal_Sum              -0.007522            0.010416           0.010222  \n",
       "words_Num                 0.010624           -0.010360          -0.003340  \n",
       "weighted_score           -0.003085            0.025024           0.014537  \n",
       "stockRise_mask            1.000000            0.105857           0.115206  \n",
       "stockRise_testKits        0.105857            1.000000           0.159451  \n",
       "stockRise_vaccine         0.115206            0.159451           1.000000  "
      ]
     },
     "execution_count": 20,
     "metadata": {},
     "output_type": "execute_result"
    }
   ],
   "source": [
    "stock_seti_stock.corr()"
   ]
  },
  {
   "cell_type": "markdown",
   "metadata": {},
   "source": [
    "### 設定 SVM 參數"
   ]
  },
  {
   "cell_type": "code",
   "execution_count": 40,
   "metadata": {},
   "outputs": [],
   "source": [
    "SVM_model = SVC(kernel = \"linear\", C = 1.0, probability=True)"
   ]
  },
  {
   "cell_type": "markdown",
   "metadata": {},
   "source": [
    "### SVM Model 函式"
   ]
  },
  {
   "cell_type": "code",
   "execution_count": 41,
   "metadata": {},
   "outputs": [],
   "source": [
    "def tokens_predict_stocks(x_train, y_train, x_test, y_test, tokens_name, predict_stocks_name, embedding):\n",
    "    \n",
    "    t0 = time()\n",
    "    SVM_model.fit(x_train, y_train)\n",
    "    print(\"done in %0.3fs.\" % (time() - t0))\n",
    "    \n",
    "    predicted_results = []\n",
    "    excepted_results = []\n",
    "\n",
    "    excepted_results.extend(y_test)\n",
    "    predicted_results.extend(SVM_model.predict(x_test))\n",
    "    \n",
    "    print(tokens_name + \" predict \" + predict_stocks_name + \"(SVM Linear + \" + embedding + \")\")\n",
    "    print(metrics.classification_report(excepted_results,predicted_results))"
   ]
  },
  {
   "cell_type": "markdown",
   "metadata": {},
   "source": [
    "### sentiment score predict stocks"
   ]
  },
  {
   "cell_type": "markdown",
   "metadata": {},
   "source": [
    "### covid 板"
   ]
  },
  {
   "cell_type": "markdown",
   "metadata": {},
   "source": [
    "#### 預測口罩類股漲跌效果"
   ]
  },
  {
   "cell_type": "code",
   "execution_count": 42,
   "metadata": {},
   "outputs": [
    {
     "name": "stdout",
     "output_type": "stream",
     "text": [
      "done in 11185.278s.\n",
      "Covid sentiment score predict mask stock(SVM Linear + cvaw)\n",
      "              precision    recall  f1-score   support\n",
      "\n",
      "          -1       0.00      0.00      0.00       557\n",
      "           0       0.00      0.00      0.00       324\n",
      "           1       0.41      1.00      0.59       622\n",
      "\n",
      "    accuracy                           0.41      1503\n",
      "   macro avg       0.14      0.33      0.20      1503\n",
      "weighted avg       0.17      0.41      0.24      1503\n",
      "\n"
     ]
    },
    {
     "name": "stderr",
     "output_type": "stream",
     "text": [
      "C:\\Users\\molly\\anaconda3\\lib\\site-packages\\sklearn\\metrics\\_classification.py:1221: UndefinedMetricWarning: Precision and F-score are ill-defined and being set to 0.0 in labels with no predicted samples. Use `zero_division` parameter to control this behavior.\n",
      "  _warn_prf(average, modifier, msg_start, len(result))\n"
     ]
    }
   ],
   "source": [
    "tokens_predict_stocks(x_train, y_train_mask, x_test, y_test_mask, \"Covid sentiment score\", \"mask stock\", \"cvaw\")"
   ]
  },
  {
   "cell_type": "markdown",
   "metadata": {},
   "source": [
    "#### 預測檢測試劑類股漲跌效果"
   ]
  },
  {
   "cell_type": "code",
   "execution_count": 43,
   "metadata": {},
   "outputs": [
    {
     "name": "stdout",
     "output_type": "stream",
     "text": [
      "done in 9324.887s.\n",
      "Covid sentiment score predict testKits stock(SVM Linear + cvaw)\n",
      "              precision    recall  f1-score   support\n",
      "\n",
      "          -1       0.00      0.00      0.00       416\n",
      "           0       0.42      1.00      0.59       636\n",
      "           1       0.00      0.00      0.00       451\n",
      "\n",
      "    accuracy                           0.42      1503\n",
      "   macro avg       0.14      0.33      0.20      1503\n",
      "weighted avg       0.18      0.42      0.25      1503\n",
      "\n"
     ]
    },
    {
     "name": "stderr",
     "output_type": "stream",
     "text": [
      "C:\\Users\\molly\\anaconda3\\lib\\site-packages\\sklearn\\metrics\\_classification.py:1221: UndefinedMetricWarning: Precision and F-score are ill-defined and being set to 0.0 in labels with no predicted samples. Use `zero_division` parameter to control this behavior.\n",
      "  _warn_prf(average, modifier, msg_start, len(result))\n"
     ]
    }
   ],
   "source": [
    "tokens_predict_stocks(x_train, y_train_testKits, x_test, y_test_testKits, \"Covid sentiment score\", \"testKits stock\", \"cvaw\")"
   ]
  },
  {
   "cell_type": "markdown",
   "metadata": {},
   "source": [
    "#### 預測疫苗類股漲跌效果"
   ]
  },
  {
   "cell_type": "code",
   "execution_count": 44,
   "metadata": {},
   "outputs": [
    {
     "name": "stdout",
     "output_type": "stream",
     "text": [
      "done in 18145.245s.\n",
      "Covid sentiment score predict vaccine stock(SVM Linear + cvaw)\n",
      "              precision    recall  f1-score   support\n",
      "\n",
      "          -1       0.00      0.00      0.00       323\n",
      "           0       0.52      1.00      0.69       787\n",
      "           1       0.00      0.00      0.00       393\n",
      "\n",
      "    accuracy                           0.52      1503\n",
      "   macro avg       0.17      0.33      0.23      1503\n",
      "weighted avg       0.27      0.52      0.36      1503\n",
      "\n"
     ]
    },
    {
     "name": "stderr",
     "output_type": "stream",
     "text": [
      "C:\\Users\\molly\\anaconda3\\lib\\site-packages\\sklearn\\metrics\\_classification.py:1221: UndefinedMetricWarning: Precision and F-score are ill-defined and being set to 0.0 in labels with no predicted samples. Use `zero_division` parameter to control this behavior.\n",
      "  _warn_prf(average, modifier, msg_start, len(result))\n"
     ]
    }
   ],
   "source": [
    "tokens_predict_stocks(x_train, y_train_vaccine, x_test, y_test_vaccine, \"Covid sentiment score\", \"vaccine stock\", \"cvaw\")"
   ]
  },
  {
   "cell_type": "markdown",
   "metadata": {},
   "source": [
    "### scock 板"
   ]
  },
  {
   "cell_type": "markdown",
   "metadata": {},
   "source": [
    "#### 預測口罩類股漲跌效果"
   ]
  },
  {
   "cell_type": "code",
   "execution_count": 48,
   "metadata": {},
   "outputs": [
    {
     "name": "stdout",
     "output_type": "stream",
     "text": [
      "done in 17531.810s.\n",
      "Stock sentiment score predict mask stock(SVM Linear + cvaw)\n",
      "              precision    recall  f1-score   support\n",
      "\n",
      "          -1       0.00      0.00      0.00       695\n",
      "           0       0.00      0.00      0.00       458\n",
      "           1       0.41      1.00      0.58       793\n",
      "\n",
      "    accuracy                           0.41      1946\n",
      "   macro avg       0.14      0.33      0.19      1946\n",
      "weighted avg       0.17      0.41      0.24      1946\n",
      "\n"
     ]
    },
    {
     "name": "stderr",
     "output_type": "stream",
     "text": [
      "C:\\Users\\molly\\anaconda3\\lib\\site-packages\\sklearn\\metrics\\_classification.py:1221: UndefinedMetricWarning: Precision and F-score are ill-defined and being set to 0.0 in labels with no predicted samples. Use `zero_division` parameter to control this behavior.\n",
      "  _warn_prf(average, modifier, msg_start, len(result))\n"
     ]
    }
   ],
   "source": [
    "tokens_predict_stocks(x_train, y_train_mask, x_test, y_test_mask, \"Stock sentiment score\", \"mask stock\", \"cvaw\")"
   ]
  },
  {
   "cell_type": "markdown",
   "metadata": {},
   "source": [
    "#### 預測檢測試劑類股漲跌效果"
   ]
  },
  {
   "cell_type": "code",
   "execution_count": 49,
   "metadata": {},
   "outputs": [
    {
     "name": "stdout",
     "output_type": "stream",
     "text": [
      "done in 17738.621s.\n",
      "Stock sentiment score predict testKits stock(SVM Linear + cvaw)\n",
      "              precision    recall  f1-score   support\n",
      "\n",
      "          -1       0.00      0.00      0.00       525\n",
      "           0       0.44      1.00      0.61       855\n",
      "           1       0.00      0.00      0.00       566\n",
      "\n",
      "    accuracy                           0.44      1946\n",
      "   macro avg       0.15      0.33      0.20      1946\n",
      "weighted avg       0.19      0.44      0.27      1946\n",
      "\n"
     ]
    },
    {
     "name": "stderr",
     "output_type": "stream",
     "text": [
      "C:\\Users\\molly\\anaconda3\\lib\\site-packages\\sklearn\\metrics\\_classification.py:1221: UndefinedMetricWarning: Precision and F-score are ill-defined and being set to 0.0 in labels with no predicted samples. Use `zero_division` parameter to control this behavior.\n",
      "  _warn_prf(average, modifier, msg_start, len(result))\n"
     ]
    }
   ],
   "source": [
    "tokens_predict_stocks(x_train, y_train_testKits, x_test, y_test_testKits, \"Stock sentiment score\", \"testKits stock\", \"cvaw\")"
   ]
  },
  {
   "cell_type": "markdown",
   "metadata": {},
   "source": [
    "#### 預測疫苗類股漲跌效果"
   ]
  },
  {
   "cell_type": "code",
   "execution_count": 50,
   "metadata": {},
   "outputs": [
    {
     "name": "stdout",
     "output_type": "stream",
     "text": [
      "done in 18713.662s.\n",
      "Stock sentiment score predict testKits stock(SVM Linear + cvaw)\n",
      "              precision    recall  f1-score   support\n",
      "\n",
      "          -1       0.00      0.00      0.00       525\n",
      "           0       0.44      1.00      0.61       855\n",
      "           1       0.00      0.00      0.00       566\n",
      "\n",
      "    accuracy                           0.44      1946\n",
      "   macro avg       0.15      0.33      0.20      1946\n",
      "weighted avg       0.19      0.44      0.27      1946\n",
      "\n"
     ]
    },
    {
     "name": "stderr",
     "output_type": "stream",
     "text": [
      "C:\\Users\\molly\\anaconda3\\lib\\site-packages\\sklearn\\metrics\\_classification.py:1221: UndefinedMetricWarning: Precision and F-score are ill-defined and being set to 0.0 in labels with no predicted samples. Use `zero_division` parameter to control this behavior.\n",
      "  _warn_prf(average, modifier, msg_start, len(result))\n"
     ]
    }
   ],
   "source": [
    "tokens_predict_stocks(x_train, y_train_testKits, x_test, y_test_testKits, \"Stock sentiment score\", \"testKits stock\", \"cvaw\")"
   ]
  },
  {
   "cell_type": "code",
   "execution_count": null,
   "metadata": {},
   "outputs": [],
   "source": []
  },
  {
   "cell_type": "code",
   "execution_count": 51,
   "metadata": {
    "scrolled": true
   },
   "outputs": [
    {
     "name": "stdout",
     "output_type": "stream",
     "text": [
      "well done! YUO MADE IT!\n"
     ]
    }
   ],
   "source": [
    "print(\"well done! YUO MADE IT!\")"
   ]
  },
  {
   "cell_type": "code",
   "execution_count": null,
   "metadata": {
    "scrolled": false
   },
   "outputs": [],
   "source": []
  },
  {
   "cell_type": "code",
   "execution_count": null,
   "metadata": {},
   "outputs": [],
   "source": []
  }
 ],
 "metadata": {
  "kernelspec": {
   "display_name": "Python 3",
   "language": "python",
   "name": "python3"
  },
  "language_info": {
   "codemirror_mode": {
    "name": "ipython",
    "version": 3
   },
   "file_extension": ".py",
   "mimetype": "text/x-python",
   "name": "python",
   "nbconvert_exporter": "python",
   "pygments_lexer": "ipython3",
   "version": "3.8.5"
  }
 },
 "nbformat": 4,
 "nbformat_minor": 4
}
